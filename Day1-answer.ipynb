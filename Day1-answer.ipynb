{
 "cells": [
  {
   "cell_type": "code",
   "execution_count": 1,
   "metadata": {
    "id": "6_6Emob-FHn3"
   },
   "outputs": [
    {
     "name": "stdout",
     "output_type": "stream",
     "text": [
      "生成一個等差數列，首數為0，尾數為20，公差為1的數列: [ 0  1  2  3  4  5  6  7  8  9 10 11 12 13 14 15 16 17 18 20]\n",
      "偶數： [ 0  2  4  6  8 10 12 14 16 18 20]\n",
      "偶數： [ 0  2  4  6  8 10 12 14 16 18 20]\n",
      "偶數： [ 0  3  6  9 12 15 18]\n"
     ]
    }
   ],
   "source": [
    "import numpy as np\n",
    "#np.arrange(起始數,幾個數字,公差,型態)\n",
    "#linspace()比arrange（）好\n",
    "answer=np.linspace(0,20,num=20,dtype=int)\n",
    "print(\"生成一個等差數列，首數為0，尾數為20，公差為1的數列:\",answer)\n",
    "print(\"偶數：\",answer[answer%2==0])\n",
    "print(\"偶數：\",answer[answer%2==0])\n",
    "print(\"偶數：\",answer[answer%3==0])"
   ]
  },
  {
   "cell_type": "code",
   "execution_count": null,
   "metadata": {},
   "outputs": [],
   "source": []
  }
 ],
 "metadata": {
  "colab": {
   "collapsed_sections": [],
   "name": "作業題目.ipynb",
   "provenance": []
  },
  "kernelspec": {
   "display_name": "Python 3",
   "language": "python",
   "name": "python3"
  },
  "language_info": {
   "codemirror_mode": {
    "name": "ipython",
    "version": 3
   },
   "file_extension": ".py",
   "mimetype": "text/x-python",
   "name": "python",
   "nbconvert_exporter": "python",
   "pygments_lexer": "ipython3",
   "version": "3.8.5"
  }
 },
 "nbformat": 4,
 "nbformat_minor": 1
}
